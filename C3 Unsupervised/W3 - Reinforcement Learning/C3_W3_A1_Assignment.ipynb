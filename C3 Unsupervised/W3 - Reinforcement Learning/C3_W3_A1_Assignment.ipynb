{
 "cells": [
  {
   "cell_type": "markdown",
   "metadata": {},
   "source": [
    "# Deep Q-Learning - Lunar Lander\n",
    "\n",
    "In this assignment, you will train an agent to land a lunar lander safely on a landing pad on the surface of the moon.\n",
    "\n",
    "\n",
    "# Outline\n",
    "- [ 1 - Import Packages <img align=\"Right\" src=\"./images/lunar_lander.gif\" width = 60% >](#1)\n",
    "- [ 2 - Hyperparameters](#2)\n",
    "- [ 3 - The Lunar Lander Environment](#3)\n",
    "  - [ 3.1 Action Space](#3.1)\n",
    "  - [ 3.2 Observation Space](#3.2)\n",
    "  - [ 3.3 Rewards](#3.3)\n",
    "  - [ 3.4 Episode Termination](#3.4)\n",
    "- [ 4 - Load the Environment](#4)\n",
    "- [ 5 - Interacting with the Gym Environment](#5)\n",
    "    - [ 5.1 Exploring the Environment's Dynamics](#5.1)\n",
    "- [ 6 - Deep Q-Learning](#6)\n",
    "  - [ 6.1 Target Network](#6.1)\n",
    "    - [ Exercise 1](#ex01)\n",
    "  - [ 6.2 Experience Replay](#6.2)\n",
    "- [ 7 - Deep Q-Learning Algorithm with Experience Replay](#7)\n",
    "  - [ Exercise 2](#ex02)\n",
    "- [ 8 - Update the Network Weights](#8)\n",
    "- [ 9 - Train the Agent](#9)\n",
    "- [ 10 - See the Trained Agent In Action](#10)\n",
    "- [ 11 - Congratulations!](#11)\n",
    "- [ 12 - References](#12)\n"
   ]
  },
  {
   "cell_type": "markdown",
   "metadata": {},
   "source": [
    "_**NOTE:** To prevent errors from the autograder, you are not allowed to edit or delete non-graded cells in this lab. Please also refrain from adding any new cells. \n",
    "**Once you have passed this assignment** and want to experiment with any of the non-graded code, you may follow the instructions at the bottom of this notebook._"
   ]
  },
  {
   "cell_type": "markdown",
   "metadata": {},
   "source": [
    "<a name=\"1\"></a>\n",
    "## 1 - Import Packages\n",
    "\n",
    "We'll make use of the following packages:\n",
    "- `numpy` is a package for scientific computing in python.\n",
    "- `deque` will be our data structure for our memory buffer.\n",
    "- `namedtuple` will be used to store the experience tuples.\n",
    "- The `gym` toolkit is a collection of environments that can be used to test reinforcement learning algorithms. We should note that in this notebook we are using `gym` version `0.24.0`.\n",
    "- `PIL.Image` and `pyvirtualdisplay` are needed to render the Lunar Lander environment.\n",
    "- We will use several modules from the `tensorflow.keras` framework for building deep learning models.\n",
    "- `utils` is a module that contains helper functions for this assignment. You do not need to modify the code in this file.\n",
    "\n",
    "Run the cell below to import all the necessary packages."
   ]
  },
  {
   "cell_type": "code",
   "execution_count": 17,
   "metadata": {
    "deletable": false,
    "editable": false,
    "id": "KYbOPKRtfQOr"
   },
   "outputs": [],
   "source": [
    "import time\n",
    "from collections import deque, namedtuple\n",
    "\n",
    "import gym\n",
    "import numpy as np\n",
    "import PIL.Image\n",
    "import tensorflow as tf\n",
    "import utils\n",
    "\n",
    "from pyvirtualdisplay import Display\n",
    "from tensorflow.keras import Sequential\n",
    "from tensorflow.keras.layers import Dense, Input\n",
    "from tensorflow.keras.losses import MSE\n",
    "from tensorflow.keras.optimizers import Adam"
   ]
  },
  {
   "cell_type": "code",
   "execution_count": 18,
   "metadata": {
    "deletable": false,
    "editable": false
   },
   "outputs": [],
   "source": [
    "# Set up a virtual display to render the Lunar Lander environment.\n",
    "Display(visible=0, size=(840, 480)).start();\n",
    "\n",
    "# Set the random seed for TensorFlow\n",
    "tf.random.set_seed(utils.SEED)"
   ]
  },
  {
   "cell_type": "markdown",
   "metadata": {},
   "source": [
    "<a name=\"2\"></a>\n",
    "## 2 - Hyperparameters\n",
    "\n",
    "Run the cell below to set the hyperparameters."
   ]
  },
  {
   "cell_type": "code",
   "execution_count": 19,
   "metadata": {
    "deletable": false,
    "editable": false
   },
   "outputs": [],
   "source": [
    "MEMORY_SIZE = 100_000     # size of memory buffer\n",
    "GAMMA = 0.995             # discount factor\n",
    "ALPHA = 1e-3              # learning rate  \n",
    "NUM_STEPS_FOR_UPDATE = 4  # perform a learning update every C time steps"
   ]
  },
  {
   "cell_type": "markdown",
   "metadata": {},
   "source": [
    "<a name=\"3\"></a>\n",
    "## 3 - The Lunar Lander Environment\n",
    "\n",
    "In this notebook we will be using [OpenAI's Gym Library](https://www.gymlibrary.dev/). The Gym library provides a wide variety of environments for reinforcement learning. To put it simply, an environment represents a problem or task to be solved. In this notebook, we will try to solve the Lunar Lander environment using reinforcement learning.\n",
    "\n",
    "The goal of the Lunar Lander environment is to land the lunar lander safely on the landing pad on the surface of the moon. The landing pad is designated by two flag poles and its center is at coordinates `(0,0)` but the lander is also allowed to land outside of the landing pad. The lander starts at the top center of the environment with a random initial force applied to its center of mass and has infinite fuel. The environment is considered solved if you get `200` points. \n",
    "\n",
    "<br>\n",
    "<br>\n",
    "<figure>\n",
    "  <img src = \"images/lunar_lander.gif\" width = 40%>\n",
    "      <figcaption style = \"text-align: center; font-style: italic\">Fig 1. Lunar Lander Environment.</figcaption>\n",
    "</figure>\n",
    "\n",
    "\n",
    "\n",
    "<a name=\"3.1\"></a>\n",
    "### 3.1 Action Space\n",
    "\n",
    "The agent has four discrete actions available:\n",
    "\n",
    "* Do nothing.\n",
    "* Fire right engine.\n",
    "* Fire main engine.\n",
    "* Fire left engine.\n",
    "\n",
    "Each action has a corresponding numerical value:\n",
    "\n",
    "```python\n",
    "Do nothing = 0\n",
    "Fire right engine = 1\n",
    "Fire main engine = 2\n",
    "Fire left engine = 3\n",
    "```\n",
    "\n",
    "<a name=\"3.2\"></a>\n",
    "### 3.2 Observation Space\n",
    "\n",
    "The agent's observation space consists of a state vector with 8 variables:\n",
    "\n",
    "* Its $(x,y)$ coordinates. The landing pad is always at coordinates $(0,0)$.\n",
    "* Its linear velocities $(\\dot x,\\dot y)$.\n",
    "* Its angle $\\theta$.\n",
    "* Its angular velocity $\\dot \\theta$.\n",
    "* Two booleans, $l$ and $r$, that represent whether each leg is in contact with the ground or not.\n",
    "\n",
    "<a name=\"3.3\"></a>\n",
    "### 3.3 Rewards\n",
    "\n",
    "After every step, a reward is granted. The total reward of an episode is the sum of the rewards for all the steps within that episode.\n",
    "\n",
    "For each step, the reward:\n",
    "- is increased/decreased the closer/further the lander is to the landing pad.\n",
    "- is increased/decreased the slower/faster the lander is moving.\n",
    "- is decreased the more the lander is tilted (angle not horizontal).\n",
    "- is increased by 10 points for each leg that is in contact with the ground.\n",
    "- is decreased by 0.03 points each frame a side engine is firing.\n",
    "- is decreased by 0.3 points each frame the main engine is firing.\n",
    "\n",
    "The episode receives an additional reward of -100 or +100 points for crashing or landing safely respectively.\n",
    "\n",
    "<a name=\"3.4\"></a>\n",
    "### 3.4 Episode Termination\n",
    "\n",
    "An episode ends (i.e the environment enters a terminal state) if:\n",
    "\n",
    "* The lunar lander crashes (i.e if the body of the lunar lander comes in contact with the surface of the moon).\n",
    "\n",
    "* The absolute value of the lander's $x$-coordinate is greater than 1 (i.e. it goes beyond the left or right border)\n",
    "\n",
    "You can check out the [Open AI Gym documentation](https://www.gymlibrary.dev/environments/box2d/lunar_lander/) for a full description of the environment. "
   ]
  },
  {
   "cell_type": "markdown",
   "metadata": {},
   "source": [
    "<a name=\"4\"></a>\n",
    "## 4 - Load the Environment\n",
    "\n",
    "We start by loading the `LunarLander-v2` environment from the `gym` library by using the `.make()` method. `LunarLander-v2` is the latest version of the Lunar Lander environment and you can read about its version history in the [Open AI Gym documentation](https://www.gymlibrary.dev/environments/box2d/lunar_lander/#version-history)."
   ]
  },
  {
   "cell_type": "code",
   "execution_count": 20,
   "metadata": {
    "deletable": false,
    "editable": false,
    "id": "ILVMYKewfR0n"
   },
   "outputs": [],
   "source": [
    "env = gym.make('LunarLander-v2')"
   ]
  },
  {
   "cell_type": "markdown",
   "metadata": {},
   "source": [
    "Once we load the environment we use the `.reset()` method to reset the environment to the initial state. The lander starts at the top center of the environment and we can render the first frame of the environment by using the `.render()` method."
   ]
  },
  {
   "cell_type": "code",
   "execution_count": 21,
   "metadata": {
    "deletable": false,
    "editable": false
   },
   "outputs": [
    {
     "data": {
      "image/png": "[encoded data removed]",
      "text/plain": [
       "<PIL.Image.Image image mode=RGB size=600x400 at 0x7F70B75F05D0>"
      ]
     },
     "execution_count": 21,
     "metadata": {},
     "output_type": "execute_result"
    }
   ],
   "source": [
    "env.reset()\n",
    "PIL.Image.fromarray(env.render(mode='rgb_array'))"
   ]
  },
  {
   "cell_type": "markdown",
   "metadata": {},
   "source": [
    "In order to build our neural network later on we need to know the size of the state vector and the number of valid actions. We can get this information from our environment by using the `.observation_space.shape` and `action_space.n` methods, respectively."
   ]
  },
  {
   "cell_type": "code",
   "execution_count": 22,
   "metadata": {
    "deletable": false,
    "editable": false,
    "id": "x3fdqdG4CUu2"
   },
   "outputs": [
    {
     "name": "stdout",
     "output_type": "stream",
     "text": [
      "State Shape: (8,)\n",
      "Number of actions: 4\n"
     ]
    }
   ],
   "source": [
    "state_size = env.observation_space.shape\n",
    "num_actions = env.action_space.n\n",
    "\n",
    "print('State Shape:', state_size)\n",
    "print('Number of actions:', num_actions)"
   ]
  },
  {
   "cell_type": "markdown",
   "metadata": {},
   "source": [
    "<a name=\"5\"></a>\n",
    "## 5 - Interacting with the Gym Environment\n",
    "\n",
    "The Gym library implements the standard “agent-environment loop” formalism:\n",
    "\n",
    "<br>\n",
    "<center>\n",
    "<video src = \"./videos/rl_formalism.m4v\" width=\"840\" height=\"480\" controls autoplay loop poster=\"./images/rl_formalism.png\"> </video>\n",
    "<figcaption style = \"text-align:center; font-style:italic\">Fig 2. Agent-environment Loop Formalism.</figcaption>\n",
    "</center>\n",
    "<br>\n",
    "\n",
    "In the standard “agent-environment loop” formalism, an agent interacts with the environment in discrete time steps $t=0,1,2,...$. At each time step $t$, the agent uses a policy $\\pi$ to select an action $A_t$ based on its observation of the environment's state $S_t$. The agent receives a numerical reward $R_t$ and on the next time step, moves to a new state $S_{t+1}$.\n",
    "\n",
    "<a name=\"5.1\"></a>\n",
    "### 5.1 Exploring the Environment's Dynamics\n",
    "\n",
    "In Open AI's Gym environments, we use the `.step()` method to run a single time step of the environment's dynamics. In the version of `gym` that we are using the `.step()` method accepts an action and returns four values:\n",
    "\n",
    "* `observation` (**object**): an environment-specific object representing your observation of the environment. In the Lunar Lander environment this corresponds to a numpy array containing the positions and velocities of the lander as described in section [3.2 Observation Space](#3.2).\n",
    "\n",
    "\n",
    "* `reward` (**float**): amount of reward returned as a result of taking the given action. In the Lunar Lander environment this corresponds to a float of type `numpy.float64` as described in section [3.3 Rewards](#3.3).\n",
    "\n",
    "\n",
    "* `done` (**boolean**): When done is `True`, it indicates the episode has terminated and it’s time to reset the environment. \n",
    "\n",
    "\n",
    "* `info` (**dictionary**): diagnostic information useful for debugging. We won't be using this variable in this notebook but it is shown here for completeness.\n",
    "\n",
    "To begin an episode, we need to reset the environment to an initial state. We do this by using the `.reset()` method. "
   ]
  },
  {
   "cell_type": "code",
   "execution_count": 23,
   "metadata": {
    "deletable": false,
    "editable": false
   },
   "outputs": [],
   "source": [
    "# Reset the environment and get the initial state.\n",
    "current_state = env.reset()"
   ]
  },
  {
   "cell_type": "markdown",
   "metadata": {},
   "source": [
    "Once the environment is reset, the agent can start taking actions in the environment by using the `.step()` method. Note that the agent can only take one action per time step. \n",
    "\n",
    "In the cell below you can select different actions and see how the returned values change depending on the action taken. Remember that in this environment the agent has four discrete actions available and we specify them in code by using their corresponding numerical value:\n",
    "\n",
    "```python\n",
    "Do nothing = 0\n",
    "Fire right engine = 1\n",
    "Fire main engine = 2\n",
    "Fire left engine = 3\n",
    "```"
   ]
  },
  {
   "cell_type": "code",
   "execution_count": 24,
   "metadata": {
    "deletable": false
   },
   "outputs": [
    {
     "data": {
      "text/html": [
       "<style  type=\"text/css\" >\n",
       "    #T_b8229bca_5164_11ee_99db_0242ac12000d th {\n",
       "          border: 1px solid grey;\n",
       "          text-align: center;\n",
       "    }    #T_b8229bca_5164_11ee_99db_0242ac12000d tbody td {\n",
       "          border: 1px solid grey;\n",
       "          text-align: center;\n",
       "    }    #T_b8229bca_5164_11ee_99db_0242ac12000drow0_col0 {\n",
       "            background-color :  grey;\n",
       "        }    #T_b8229bca_5164_11ee_99db_0242ac12000drow1_col1 {\n",
       "            background-color :  grey;\n",
       "        }    #T_b8229bca_5164_11ee_99db_0242ac12000drow1_col2 {\n",
       "            background-color :  grey;\n",
       "        }    #T_b8229bca_5164_11ee_99db_0242ac12000drow1_col3 {\n",
       "            background-color :  grey;\n",
       "        }    #T_b8229bca_5164_11ee_99db_0242ac12000drow1_col4 {\n",
       "            background-color :  grey;\n",
       "        }    #T_b8229bca_5164_11ee_99db_0242ac12000drow1_col5 {\n",
       "            background-color :  grey;\n",
       "        }    #T_b8229bca_5164_11ee_99db_0242ac12000drow1_col6 {\n",
       "            background-color :  grey;\n",
       "        }    #T_b8229bca_5164_11ee_99db_0242ac12000drow1_col7 {\n",
       "            background-color :  grey;\n",
       "        }    #T_b8229bca_5164_11ee_99db_0242ac12000drow1_col8 {\n",
       "            background-color :  grey;\n",
       "        }    #T_b8229bca_5164_11ee_99db_0242ac12000drow1_col9 {\n",
       "            background-color :  grey;\n",
       "        }    #T_b8229bca_5164_11ee_99db_0242ac12000drow1_col10 {\n",
       "            background-color :  grey;\n",
       "        }    #T_b8229bca_5164_11ee_99db_0242ac12000drow1_col11 {\n",
       "            background-color :  grey;\n",
       "        }    #T_b8229bca_5164_11ee_99db_0242ac12000drow2_col0 {\n",
       "            background-color :  grey;\n",
       "        }    #T_b8229bca_5164_11ee_99db_0242ac12000drow3_col1 {\n",
       "            background-color :  grey;\n",
       "        }    #T_b8229bca_5164_11ee_99db_0242ac12000drow3_col2 {\n",
       "            background-color :  grey;\n",
       "        }    #T_b8229bca_5164_11ee_99db_0242ac12000drow3_col3 {\n",
       "            background-color :  grey;\n",
       "        }    #T_b8229bca_5164_11ee_99db_0242ac12000drow3_col4 {\n",
       "            background-color :  grey;\n",
       "        }    #T_b8229bca_5164_11ee_99db_0242ac12000drow3_col5 {\n",
       "            background-color :  grey;\n",
       "        }    #T_b8229bca_5164_11ee_99db_0242ac12000drow3_col6 {\n",
       "            background-color :  grey;\n",
       "        }    #T_b8229bca_5164_11ee_99db_0242ac12000drow3_col7 {\n",
       "            background-color :  grey;\n",
       "        }    #T_b8229bca_5164_11ee_99db_0242ac12000drow3_col8 {\n",
       "            background-color :  grey;\n",
       "        }    #T_b8229bca_5164_11ee_99db_0242ac12000drow3_col9 {\n",
       "            background-color :  grey;\n",
       "        }    #T_b8229bca_5164_11ee_99db_0242ac12000drow3_col10 {\n",
       "            background-color :  grey;\n",
       "        }    #T_b8229bca_5164_11ee_99db_0242ac12000drow3_col11 {\n",
       "            background-color :  grey;\n",
       "        }    #T_b8229bca_5164_11ee_99db_0242ac12000drow4_col1 {\n",
       "            background-color :  grey;\n",
       "        }    #T_b8229bca_5164_11ee_99db_0242ac12000drow4_col2 {\n",
       "            background-color :  grey;\n",
       "        }    #T_b8229bca_5164_11ee_99db_0242ac12000drow4_col3 {\n",
       "            background-color :  grey;\n",
       "        }    #T_b8229bca_5164_11ee_99db_0242ac12000drow4_col4 {\n",
       "            background-color :  grey;\n",
       "        }    #T_b8229bca_5164_11ee_99db_0242ac12000drow4_col5 {\n",
       "            background-color :  grey;\n",
       "        }    #T_b8229bca_5164_11ee_99db_0242ac12000drow4_col6 {\n",
       "            background-color :  grey;\n",
       "        }    #T_b8229bca_5164_11ee_99db_0242ac12000drow4_col7 {\n",
       "            background-color :  grey;\n",
       "        }    #T_b8229bca_5164_11ee_99db_0242ac12000drow4_col8 {\n",
       "            background-color :  grey;\n",
       "        }    #T_b8229bca_5164_11ee_99db_0242ac12000drow4_col9 {\n",
       "            background-color :  grey;\n",
       "        }    #T_b8229bca_5164_11ee_99db_0242ac12000drow4_col10 {\n",
       "            background-color :  grey;\n",
       "        }    #T_b8229bca_5164_11ee_99db_0242ac12000drow4_col11 {\n",
       "            background-color :  grey;\n",
       "        }</style><table id=\"T_b8229bca_5164_11ee_99db_0242ac12000d\" ><thead>    <tr>        <th class=\"blank level0\" ></th>        <th class=\"col_heading level0 col0\" ></th>        <th class=\"col_heading level0 col1\" colspan=8>State Vector</th>        <th class=\"col_heading level0 col9\" colspan=3>Derived from the State Vector (the closer to zero, the better)</th>    </tr>    <tr>        <th class=\"blank level1\" ></th>        <th class=\"col_heading level1 col0\" ></th>        <th class=\"col_heading level1 col1\" colspan=2>Coordinate</th>        <th class=\"col_heading level1 col3\" colspan=2>Velocity</th>        <th class=\"col_heading level1 col5\" colspan=2>Tilting</th>        <th class=\"col_heading level1 col7\" colspan=2>Ground contact</th>        <th class=\"col_heading level1 col9\" >Distance from landing pad</th>        <th class=\"col_heading level1 col10\" >Velocity</th>        <th class=\"col_heading level1 col11\" >Tilting Angle (absolute value)</th>    </tr>    <tr>        <th class=\"blank level2\" ></th>        <th class=\"col_heading level2 col0\" ></th>        <th class=\"col_heading level2 col1\" >X (Horizontal)</th>        <th class=\"col_heading level2 col2\" >Y (Vertical)</th>        <th class=\"col_heading level2 col3\" >X (Horizontal)</th>        <th class=\"col_heading level2 col4\" >Y (Vertical)</th>        <th class=\"col_heading level2 col5\" >Angle</th>        <th class=\"col_heading level2 col6\" >Angular Velocity</th>        <th class=\"col_heading level2 col7\" >Left Leg?</th>        <th class=\"col_heading level2 col8\" >Right Leg?</th>        <th class=\"col_heading level2 col9\" ></th>        <th class=\"col_heading level2 col10\" ></th>        <th class=\"col_heading level2 col11\" ></th>    </tr></thead><tbody>\n",
       "                <tr>\n",
       "                        <th id=\"T_b8229bca_5164_11ee_99db_0242ac12000dlevel0_row0\" class=\"row_heading level0 row0\" >Current State</th>\n",
       "                        <td id=\"T_b8229bca_5164_11ee_99db_0242ac12000drow0_col0\" class=\"data row0 col0\" ></td>\n",
       "                        <td id=\"T_b8229bca_5164_11ee_99db_0242ac12000drow0_col1\" class=\"data row0 col1\" >0.001919</td>\n",
       "                        <td id=\"T_b8229bca_5164_11ee_99db_0242ac12000drow0_col2\" class=\"data row0 col2\" >1.422301</td>\n",
       "                        <td id=\"T_b8229bca_5164_11ee_99db_0242ac12000drow0_col3\" class=\"data row0 col3\" >0.194400</td>\n",
       "                        <td id=\"T_b8229bca_5164_11ee_99db_0242ac12000drow0_col4\" class=\"data row0 col4\" >0.505814</td>\n",
       "                        <td id=\"T_b8229bca_5164_11ee_99db_0242ac12000drow0_col5\" class=\"data row0 col5\" >-0.002217</td>\n",
       "                        <td id=\"T_b8229bca_5164_11ee_99db_0242ac12000drow0_col6\" class=\"data row0 col6\" >-0.044034</td>\n",
       "                        <td id=\"T_b8229bca_5164_11ee_99db_0242ac12000drow0_col7\" class=\"data row0 col7\" >False</td>\n",
       "                        <td id=\"T_b8229bca_5164_11ee_99db_0242ac12000drow0_col8\" class=\"data row0 col8\" >False</td>\n",
       "                        <td id=\"T_b8229bca_5164_11ee_99db_0242ac12000drow0_col9\" class=\"data row0 col9\" >1.422302</td>\n",
       "                        <td id=\"T_b8229bca_5164_11ee_99db_0242ac12000drow0_col10\" class=\"data row0 col10\" >0.541885</td>\n",
       "                        <td id=\"T_b8229bca_5164_11ee_99db_0242ac12000drow0_col11\" class=\"data row0 col11\" >0.002217</td>\n",
       "            </tr>\n",
       "            <tr>\n",
       "                        <th id=\"T_b8229bca_5164_11ee_99db_0242ac12000dlevel0_row1\" class=\"row_heading level0 row1\" >Action</th>\n",
       "                        <td id=\"T_b8229bca_5164_11ee_99db_0242ac12000drow1_col0\" class=\"data row1 col0\" >Do nothing</td>\n",
       "                        <td id=\"T_b8229bca_5164_11ee_99db_0242ac12000drow1_col1\" class=\"data row1 col1\" ></td>\n",
       "                        <td id=\"T_b8229bca_5164_11ee_99db_0242ac12000drow1_col2\" class=\"data row1 col2\" ></td>\n",
       "                        <td id=\"T_b8229bca_5164_11ee_99db_0242ac12000drow1_col3\" class=\"data row1 col3\" ></td>\n",
       "                        <td id=\"T_b8229bca_5164_11ee_99db_0242ac12000drow1_col4\" class=\"data row1 col4\" ></td>\n",
       "                        <td id=\"T_b8229bca_5164_11ee_99db_0242ac12000drow1_col5\" class=\"data row1 col5\" ></td>\n",
       "                        <td id=\"T_b8229bca_5164_11ee_99db_0242ac12000drow1_col6\" class=\"data row1 col6\" ></td>\n",
       "                        <td id=\"T_b8229bca_5164_11ee_99db_0242ac12000drow1_col7\" class=\"data row1 col7\" ></td>\n",
       "                        <td id=\"T_b8229bca_5164_11ee_99db_0242ac12000drow1_col8\" class=\"data row1 col8\" ></td>\n",
       "                        <td id=\"T_b8229bca_5164_11ee_99db_0242ac12000drow1_col9\" class=\"data row1 col9\" ></td>\n",
       "                        <td id=\"T_b8229bca_5164_11ee_99db_0242ac12000drow1_col10\" class=\"data row1 col10\" ></td>\n",
       "                        <td id=\"T_b8229bca_5164_11ee_99db_0242ac12000drow1_col11\" class=\"data row1 col11\" ></td>\n",
       "            </tr>\n",
       "            <tr>\n",
       "                        <th id=\"T_b8229bca_5164_11ee_99db_0242ac12000dlevel0_row2\" class=\"row_heading level0 row2\" >Next State</th>\n",
       "                        <td id=\"T_b8229bca_5164_11ee_99db_0242ac12000drow2_col0\" class=\"data row2 col0\" ></td>\n",
       "                        <td id=\"T_b8229bca_5164_11ee_99db_0242ac12000drow2_col1\" class=\"data row2 col1\" >0.003839</td>\n",
       "                        <td id=\"T_b8229bca_5164_11ee_99db_0242ac12000drow2_col2\" class=\"data row2 col2\" >1.433103</td>\n",
       "                        <td id=\"T_b8229bca_5164_11ee_99db_0242ac12000drow2_col3\" class=\"data row2 col3\" >0.194137</td>\n",
       "                        <td id=\"T_b8229bca_5164_11ee_99db_0242ac12000drow2_col4\" class=\"data row2 col4\" >0.480094</td>\n",
       "                        <td id=\"T_b8229bca_5164_11ee_99db_0242ac12000drow2_col5\" class=\"data row2 col5\" >-0.004393</td>\n",
       "                        <td id=\"T_b8229bca_5164_11ee_99db_0242ac12000drow2_col6\" class=\"data row2 col6\" >-0.043519</td>\n",
       "                        <td id=\"T_b8229bca_5164_11ee_99db_0242ac12000drow2_col7\" class=\"data row2 col7\" >False</td>\n",
       "                        <td id=\"T_b8229bca_5164_11ee_99db_0242ac12000drow2_col8\" class=\"data row2 col8\" >False</td>\n",
       "                        <td id=\"T_b8229bca_5164_11ee_99db_0242ac12000drow2_col9\" class=\"data row2 col9\" >1.433108</td>\n",
       "                        <td id=\"T_b8229bca_5164_11ee_99db_0242ac12000drow2_col10\" class=\"data row2 col10\" >0.517860</td>\n",
       "                        <td id=\"T_b8229bca_5164_11ee_99db_0242ac12000drow2_col11\" class=\"data row2 col11\" >0.004393</td>\n",
       "            </tr>\n",
       "            <tr>\n",
       "                        <th id=\"T_b8229bca_5164_11ee_99db_0242ac12000dlevel0_row3\" class=\"row_heading level0 row3\" >Reward</th>\n",
       "                        <td id=\"T_b8229bca_5164_11ee_99db_0242ac12000drow3_col0\" class=\"data row3 col0\" >1.104326</td>\n",
       "                        <td id=\"T_b8229bca_5164_11ee_99db_0242ac12000drow3_col1\" class=\"data row3 col1\" ></td>\n",
       "                        <td id=\"T_b8229bca_5164_11ee_99db_0242ac12000drow3_col2\" class=\"data row3 col2\" ></td>\n",
       "                        <td id=\"T_b8229bca_5164_11ee_99db_0242ac12000drow3_col3\" class=\"data row3 col3\" ></td>\n",
       "                        <td id=\"T_b8229bca_5164_11ee_99db_0242ac12000drow3_col4\" class=\"data row3 col4\" ></td>\n",
       "                        <td id=\"T_b8229bca_5164_11ee_99db_0242ac12000drow3_col5\" class=\"data row3 col5\" ></td>\n",
       "                        <td id=\"T_b8229bca_5164_11ee_99db_0242ac12000drow3_col6\" class=\"data row3 col6\" ></td>\n",
       "                        <td id=\"T_b8229bca_5164_11ee_99db_0242ac12000drow3_col7\" class=\"data row3 col7\" ></td>\n",
       "                        <td id=\"T_b8229bca_5164_11ee_99db_0242ac12000drow3_col8\" class=\"data row3 col8\" ></td>\n",
       "                        <td id=\"T_b8229bca_5164_11ee_99db_0242ac12000drow3_col9\" class=\"data row3 col9\" ></td>\n",
       "                        <td id=\"T_b8229bca_5164_11ee_99db_0242ac12000drow3_col10\" class=\"data row3 col10\" ></td>\n",
       "                        <td id=\"T_b8229bca_5164_11ee_99db_0242ac12000drow3_col11\" class=\"data row3 col11\" ></td>\n",
       "            </tr>\n",
       "            <tr>\n",
       "                        <th id=\"T_b8229bca_5164_11ee_99db_0242ac12000dlevel0_row4\" class=\"row_heading level0 row4\" >Episode Terminated</th>\n",
       "                        <td id=\"T_b8229bca_5164_11ee_99db_0242ac12000drow4_col0\" class=\"data row4 col0\" >False</td>\n",
       "                        <td id=\"T_b8229bca_5164_11ee_99db_0242ac12000drow4_col1\" class=\"data row4 col1\" ></td>\n",
       "                        <td id=\"T_b8229bca_5164_11ee_99db_0242ac12000drow4_col2\" class=\"data row4 col2\" ></td>\n",
       "                        <td id=\"T_b8229bca_5164_11ee_99db_0242ac12000drow4_col3\" class=\"data row4 col3\" ></td>\n",
       "                        <td id=\"T_b8229bca_5164_11ee_99db_0242ac12000drow4_col4\" class=\"data row4 col4\" ></td>\n",
       "                        <td id=\"T_b8229bca_5164_11ee_99db_0242ac12000drow4_col5\" class=\"data row4 col5\" ></td>\n",
       "                        <td id=\"T_b8229bca_5164_11ee_99db_0242ac12000drow4_col6\" class=\"data row4 col6\" ></td>\n",
       "                        <td id=\"T_b8229bca_5164_11ee_99db_0242ac12000drow4_col7\" class=\"data row4 col7\" ></td>\n",
       "                        <td id=\"T_b8229bca_5164_11ee_99db_0242ac12000drow4_col8\" class=\"data row4 col8\" ></td>\n",
       "                        <td id=\"T_b8229bca_5164_11ee_99db_0242ac12000drow4_col9\" class=\"data row4 col9\" ></td>\n",
       "                        <td id=\"T_b8229bca_5164_11ee_99db_0242ac12000drow4_col10\" class=\"data row4 col10\" ></td>\n",
       "                        <td id=\"T_b8229bca_5164_11ee_99db_0242ac12000drow4_col11\" class=\"data row4 col11\" ></td>\n",
       "            </tr>\n",
       "    </tbody></table>"
      ],
      "text/plain": [
       "<pandas.io.formats.style.Styler at 0x7f70b75b7950>"
      ]
     },
     "metadata": {},
     "output_type": "display_data"
    }
   ],
   "source": [
    "# Select an action\n",
    "action = 0\n",
    "\n",
    "# Run a single time step of the environment's dynamics with the given action.\n",
    "next_state, reward, done, _ = env.step(action)\n",
    "\n",
    "# Display table with values.\n",
    "utils.display_table(current_state, action, next_state, reward, done)\n",
    "\n",
    "# Replace the `current_state` with the state after the action is taken\n",
    "current_state = next_state"
   ]
  },
  {
   "cell_type": "markdown",
   "metadata": {},
   "source": [
    "In practice, when we train the agent we use a loop to allow the agent to take many consecutive actions during an episode."
   ]
  },
  {
   "cell_type": "markdown",
   "metadata": {},
   "source": [
    "<a name=\"6\"></a>\n",
    "## 6 - Deep Q-Learning\n",
    "\n",
    "In cases where both the state and action space are discrete we can estimate the action-value function iteratively by using the Bellman equation:\n",
    "\n",
    "$$\n",
    "Q_{i+1}(s,a) = R + \\gamma \\max_{a'}Q_i(s',a')\n",
    "$$\n",
    "\n",
    "This iterative method converges to the optimal action-value function $Q^*(s,a)$ as $i\\to\\infty$. This means that the agent just needs to gradually explore the state-action space and keep updating the estimate of $Q(s,a)$ until it converges to the optimal action-value function $Q^*(s,a)$. However, in cases where the state space is continuous it becomes practically impossible to explore the entire state-action space. Consequently, this also makes it practically impossible to gradually estimate $Q(s,a)$ until it converges to $Q^*(s,a)$.\n",
    "\n",
    "In the Deep $Q$-Learning, we solve this problem by using a neural network to estimate the action-value function $Q(s,a)\\approx Q^*(s,a)$. We call this neural network a $Q$-Network and it can be trained by adjusting its weights at each iteration to minimize the mean-squared error in the Bellman equation.\n",
    "\n",
    "Unfortunately, using neural networks in reinforcement learning to estimate action-value functions has proven to be highly unstable. Luckily, there's a couple of techniques that can be employed to avoid instabilities. These techniques consist of using a ***Target Network*** and ***Experience Replay***. We will explore these two techniques in the following sections."
   ]
  },
  {
   "cell_type": "markdown",
   "metadata": {},
   "source": [
    "<a name=\"6.1\"></a>\n",
    "### 6.1 Target Network\n",
    "\n",
    "We can train the $Q$-Network by adjusting it's weights at each iteration to minimize the mean-squared error in the Bellman equation, where the target values are given by:\n",
    "\n",
    "$$\n",
    "y = R + \\gamma \\max_{a'}Q(s',a';w)\n",
    "$$\n",
    "\n",
    "where $w$ are the weights of the $Q$-Network. This means that we are adjusting the weights $w$ at each iteration to minimize the following error:\n",
    "\n",
    "$$\n",
    "\\overbrace{\\underbrace{R + \\gamma \\max_{a'}Q(s',a'; w)}_{\\rm {y~target}} - Q(s,a;w)}^{\\rm {Error}}\n",
    "$$\n",
    "\n",
    "Notice that this forms a problem because the $y$ target is changing on every iteration. Having a constantly moving target can lead to oscillations and instabilities. To avoid this, we can create\n",
    "a separate neural network for generating the $y$ targets. We call this separate neural network the **target $\\hat Q$-Network** and it will have the same architecture as the original $Q$-Network. By using the target $\\hat Q$-Network, the above error becomes:\n",
    "\n",
    "$$\n",
    "\\overbrace{\\underbrace{R + \\gamma \\max_{a'}\\hat{Q}(s',a'; w^-)}_{\\rm {y~target}} - Q(s,a;w)}^{\\rm {Error}}\n",
    "$$\n",
    "\n",
    "where $w^-$ and $w$ are the weights of the target $\\hat Q$-Network and $Q$-Network, respectively.\n",
    "\n",
    "In practice, we will use the following algorithm: every $C$ time steps we will use the $\\hat Q$-Network to generate the $y$ targets and update the weights of the target $\\hat Q$-Network using the weights of the $Q$-Network. We will update the weights $w^-$ of the the target $\\hat Q$-Network using a **soft update**. This means that we will update the weights $w^-$ using the following rule:\n",
    " \n",
    "$$\n",
    "w^-\\leftarrow \\tau w + (1 - \\tau) w^-\n",
    "$$\n",
    "\n",
    "where $\\tau\\ll 1$. By using the soft update, we are ensuring that the target values, $y$, change slowly, which greatly improves the stability of our learning algorithm."
   ]
  },
  {
   "cell_type": "markdown",
   "metadata": {},
   "source": [
    "<a name=\"ex01\"></a>\n",
    "### Exercise 1\n",
    "\n",
    "In this exercise you will create the $Q$ and target $\\hat Q$ networks and set the optimizer. Remember that the Deep $Q$-Network (DQN) is a neural network that approximates the action-value function $Q(s,a)\\approx Q^*(s,a)$. It does this by learning how to map states to $Q$ values.\n",
    "\n",
    "To solve the Lunar Lander environment, we are going to employ a DQN with the following architecture:\n",
    "\n",
    "* An `Input` layer that takes `state_size` as input.\n",
    "\n",
    "* A `Dense` layer with `64` units and a `relu` activation function.\n",
    "\n",
    "* A `Dense` layer with `64` units and a `relu` activation function.\n",
    "\n",
    "* A `Dense` layer with `num_actions` units and a `linear` activation function. This will be the output layer of our network.\n",
    "\n",
    "\n",
    "In the cell below you should create the $Q$-Network and the target $\\hat Q$-Network using the model architecture described above. Remember that both the $Q$-Network and the target $\\hat Q$-Network have the same architecture.\n",
    "\n",
    "Lastly, you should set `Adam` as the optimizer with a learning rate equal to `ALPHA`. Recall that `ALPHA` was defined in the [Hyperparameters](#2) section. We should note that for this exercise you should use the already imported packages:\n",
    "```python\n",
    "from tensorflow.keras.layers import Dense, Input\n",
    "from tensorflow.keras.optimizers import Adam\n",
    "```"
   ]
  },
  {
   "cell_type": "code",
   "execution_count": 26,
   "metadata": {
    "deletable": false
   },
   "outputs": [],
   "source": [
    "# UNQ_C1\n",
    "# GRADED CELL\n",
    "\n",
    "# Create the Q-Network\n",
    "q_network = Sequential([\n",
    "    ### START CODE HERE ### \n",
    "    Input(shape=state_size),                      \n",
    "    Dense(units=64, activation='relu'),            \n",
    "    Dense(units=64, activation='relu'),            \n",
    "    Dense(units=num_actions, activation='linear'),\n",
    "    ### END CODE HERE ### \n",
    "    ])\n",
    "\n",
    "# Create the target Q^-Network\n",
    "target_q_network = Sequential([\n",
    "    ### START CODE HERE ### \n",
    "    Input(shape=state_size),                       \n",
    "    Dense(units=64, activation='relu'),            \n",
    "    Dense(units=64, activation='relu'),            \n",
    "    Dense(units=num_actions, activation='linear'),\n",
    "    \n",
    "    ### END CODE HERE ###\n",
    "    ])\n",
    "\n",
    "### START CODE HERE ### \n",
    "optimizer = Adam(learning_rate=ALPHA) \n",
    "### END CODE HERE ###"
   ]
  },
  {
   "cell_type": "code",
   "execution_count": 27,
   "metadata": {
    "deletable": false,
    "editable": false
   },
   "outputs": [
    {
     "name": "stdout",
     "output_type": "stream",
     "text": [
      "\u001b[92mAll tests passed!\n",
      "\u001b[92mAll tests passed!\n",
      "\u001b[92mAll tests passed!\n"
     ]
    }
   ],
   "source": [
    "# UNIT TEST\n",
    "from public_tests import *\n",
    "\n",
    "test_network(q_network)\n",
    "test_network(target_q_network)\n",
    "test_optimizer(optimizer, ALPHA) "
   ]
  },
  {
   "cell_type": "markdown",
   "metadata": {},
   "source": [
    "<details>\n",
    "  <summary><font size=\"3\" color=\"darkgreen\"><b>Click for hints</b></font></summary>\n",
    "    \n",
    "```python\n",
    "# Create the Q-Network\n",
    "q_network = Sequential([\n",
    "    Input(shape=state_size),                      \n",
    "    Dense(units=64, activation='relu'),            \n",
    "    Dense(units=64, activation='relu'),            \n",
    "    Dense(units=num_actions, activation='linear'),\n",
    "    ])\n",
    "\n",
    "# Create the target Q^-Network\n",
    "target_q_network = Sequential([\n",
    "    Input(shape=state_size),                       \n",
    "    Dense(units=64, activation='relu'),            \n",
    "    Dense(units=64, activation='relu'),            \n",
    "    Dense(units=num_actions, activation='linear'), \n",
    "    ])\n",
    "\n",
    "optimizer = Adam(learning_rate=ALPHA)                                  \n",
    "``` "
   ]
  },
  {
   "cell_type": "markdown",
   "metadata": {},
   "source": [
    "<a name=\"6.2\"></a>\n",
    "### 6.2 Experience Replay\n",
    "\n",
    "When an agent interacts with the environment, the states, actions, and rewards the agent experiences are sequential by nature. If the agent tries to learn from these consecutive experiences it can run into problems due to the strong correlations between them. To avoid this, we employ a technique known as **Experience Replay** to generate uncorrelated experiences for training our agent. Experience replay consists of storing the agent's experiences (i.e the states, actions, and rewards the agent receives) in a memory buffer and then sampling a random mini-batch of experiences from the buffer to do the learning. The experience tuples $(S_t, A_t, R_t, S_{t+1})$ will be added to the memory buffer at each time step as the agent interacts with the environment.\n",
    "\n",
    "For convenience, we will store the experiences as named tuples."
   ]
  },
  {
   "cell_type": "code",
   "execution_count": 28,
   "metadata": {
    "deletable": false,
    "editable": false
   },
   "outputs": [],
   "source": [
    "# Store experiences as named tuples\n",
    "experience = namedtuple(\"Experience\", field_names=[\"state\", \"action\", \"reward\", \"next_state\", \"done\"])"
   ]
  },
  {
   "cell_type": "markdown",
   "metadata": {},
   "source": [
    "By using experience replay we avoid problematic correlations, oscillations and instabilities. In addition, experience replay also allows the agent to potentially use the same experience in multiple weight updates, which increases data efficiency."
   ]
  },
  {
   "cell_type": "markdown",
   "metadata": {},
   "source": [
    "<a name=\"7\"></a>\n",
    "## 7 - Deep Q-Learning Algorithm with Experience Replay\n",
    "\n",
    "Now that we know all the techniques that we are going to use, we can put them together to arrive at the Deep Q-Learning Algorithm With Experience Replay.\n",
    "<br>\n",
    "<br>\n",
    "<figure>\n",
    "  <img src = \"images/deep_q_algorithm.png\" width = 90% style = \"border: thin silver solid; padding: 0px\">\n",
    "      <figcaption style = \"text-align: center; font-style: italic\">Fig 3. Deep Q-Learning with Experience Replay.</figcaption>\n",
    "</figure>"
   ]
  },
  {
   "cell_type": "markdown",
   "metadata": {},
   "source": [
    "<a name=\"ex02\"></a>\n",
    "### Exercise 2\n",
    "\n",
    "In this exercise you will implement line ***12*** of the algorithm outlined in *Fig 3* above and you will also compute the loss between the $y$ targets and the $Q(s,a)$ values. In the cell below, complete the `compute_loss` function by setting the $y$ targets equal to:\n",
    "\n",
    "$$\n",
    "\\begin{equation}\n",
    "    y_j =\n",
    "    \\begin{cases}\n",
    "      R_j & \\text{if episode terminates at step  } j+1\\\\\n",
    "      R_j + \\gamma \\max_{a'}\\hat{Q}(s_{j+1},a') & \\text{otherwise}\\\\\n",
    "    \\end{cases}       \n",
    "\\end{equation}\n",
    "$$\n",
    "\n",
    "Here are a couple of things to note:\n",
    "\n",
    "* The `compute_loss` function takes in a mini-batch of experience tuples. This mini-batch of experience tuples is unpacked to extract the `states`, `actions`, `rewards`, `next_states`, and `done_vals`. You should keep in mind that these variables are *TensorFlow Tensors* whose size will depend on the mini-batch size. For example, if the mini-batch size is `64` then both `rewards` and `done_vals` will be TensorFlow Tensors with `64` elements.\n",
    "\n",
    "\n",
    "* Using `if/else` statements to set the $y$ targets will not work when the variables are tensors with many elements. However, notice that you can use the `done_vals` to implement the above in a single line of code. To do this, recall that the `done` variable is a Boolean variable that takes the value `True` when an episode terminates at step $j+1$ and it is `False` otherwise. Taking into account that a Boolean value of `True` has the numerical value of `1` and a Boolean value of `False` has the numerical value of `0`, you can use the factor `(1 - done_vals)` to implement the above in a single line of code. Here's a hint: notice that `(1 - done_vals)` has a value of `0` when `done_vals` is `True` and a value of `1` when `done_vals` is `False`. \n",
    "\n",
    "Lastly, compute the loss by calculating the Mean-Squared Error (`MSE`) between the `y_targets` and the `q_values`. To calculate the mean-squared error you should use the already imported package `MSE`:\n",
    "```python\n",
    "from tensorflow.keras.losses import MSE\n",
    "```"
   ]
  },
  {
   "cell_type": "code",
   "execution_count": 29,
   "metadata": {
    "deletable": false
   },
   "outputs": [],
   "source": [
    "# UNQ_C2\n",
    "# GRADED FUNCTION: calculate_loss\n",
    "\n",
    "def compute_loss(experiences, gamma, q_network, target_q_network):\n",
    "    \"\"\" \n",
    "    Calculates the loss.\n",
    "    \n",
    "    Args:\n",
    "      experiences: (tuple) tuple of [\"state\", \"action\", \"reward\", \"next_state\", \"done\"] namedtuples\n",
    "      gamma: (float) The discount factor.\n",
    "      q_network: (tf.keras.Sequential) Keras model for predicting the q_values\n",
    "      target_q_network: (tf.keras.Sequential) Keras model for predicting the targets\n",
    "          \n",
    "    Returns:\n",
    "      loss: (TensorFlow Tensor(shape=(0,), dtype=int32)) the Mean-Squared Error between\n",
    "            the y targets and the Q(s,a) values.\n",
    "    \"\"\"\n",
    "\n",
    "    # Unpack the mini-batch of experience tuples\n",
    "    states, actions, rewards, next_states, done_vals = experiences\n",
    "    \n",
    "    # Compute max Q^(s,a)\n",
    "    max_qsa = tf.reduce_max(target_q_network(next_states), axis=-1)\n",
    "    \n",
    "    # Set y = R if episode terminates, otherwise set y = R + γ max Q^(s,a).\n",
    "    ### START CODE HERE ### \n",
    "    y_targets = rewards + (gamma * max_qsa * (1 - done_vals))\n",
    "    ### END CODE HERE ###\n",
    "    \n",
    "    # Get the q_values and reshape to match y_targets\n",
    "    q_values = q_network(states)\n",
    "    q_values = tf.gather_nd(q_values, tf.stack([tf.range(q_values.shape[0]),\n",
    "                                                tf.cast(actions, tf.int32)], axis=1))\n",
    "        \n",
    "    # Compute the loss\n",
    "    ### START CODE HERE ### \n",
    "    loss = MSE(y_targets, q_values) \n",
    "    ### END CODE HERE ### \n",
    "    \n",
    "    return loss"
   ]
  },
  {
   "cell_type": "code",
   "execution_count": 30,
   "metadata": {
    "deletable": false,
    "editable": false
   },
   "outputs": [
    {
     "name": "stdout",
     "output_type": "stream",
     "text": [
      "\u001b[92mAll tests passed!\n"
     ]
    }
   ],
   "source": [
    "# UNIT TEST    \n",
    "test_compute_loss(compute_loss)"
   ]
  },
  {
   "cell_type": "markdown",
   "metadata": {},
   "source": [
    "<details>\n",
    "  <summary><font size=\"3\" color=\"darkgreen\"><b>Click for hints</b></font></summary>\n",
    "    \n",
    "```python\n",
    "def compute_loss(experiences, gamma, q_network, target_q_network):\n",
    "    \"\"\" \n",
    "    Calculates the loss.\n",
    "    \n",
    "    Args:\n",
    "      experiences: (tuple) tuple of [\"state\", \"action\", \"reward\", \"next_state\", \"done\"] namedtuples\n",
    "      gamma: (float) The discount factor.\n",
    "      q_network: (tf.keras.Sequential) Keras model for predicting the q_values\n",
    "      target_q_network: (tf.keras.Sequential) Keras model for predicting the targets\n",
    "          \n",
    "    Returns:\n",
    "      loss: (TensorFlow Tensor(shape=(0,), dtype=int32)) the Mean-Squared Error between\n",
    "            the y targets and the Q(s,a) values.\n",
    "    \"\"\"\n",
    "\n",
    "    \n",
    "    # Unpack the mini-batch of experience tuples\n",
    "    states, actions, rewards, next_states, done_vals = experiences\n",
    "    \n",
    "    # Compute max Q^(s,a)\n",
    "    max_qsa = tf.reduce_max(target_q_network(next_states), axis=-1)\n",
    "    \n",
    "    # Set y = R if episode terminates, otherwise set y = R + γ max Q^(s,a).\n",
    "    y_targets = rewards + (gamma * max_qsa * (1 - done_vals))\n",
    "    \n",
    "    # Get the q_values\n",
    "    q_values = q_network(states)\n",
    "    q_values = tf.gather_nd(q_values, tf.stack([tf.range(q_values.shape[0]),\n",
    "                                                tf.cast(actions, tf.int32)], axis=1))\n",
    "    \n",
    "    # Calculate the loss\n",
    "    loss = MSE(y_targets, q_values)\n",
    "    \n",
    "    return loss\n",
    "\n",
    "``` \n",
    "    "
   ]
  },
  {
   "cell_type": "markdown",
   "metadata": {},
   "source": [
    "<a name=\"8\"></a>\n",
    "## 8 - Update the Network Weights\n",
    "\n",
    "We will use the `agent_learn` function below to implement lines ***12 -14*** of the algorithm outlined in [Fig 3](#7). The `agent_learn` function will update the weights of the $Q$ and target $\\hat Q$ networks using a custom training loop. Because we are using a custom training loop we need to retrieve the gradients via a `tf.GradientTape` instance, and then call `optimizer.apply_gradients()` to update the weights of our $Q$-Network. Note that we are also using the `@tf.function` decorator to increase performance. Without this decorator our training will take twice as long. If you would like to know more about how to increase performance with `@tf.function` take a look at the [TensorFlow documentation](https://www.tensorflow.org/guide/function).\n",
    "\n",
    "The last line of this function updates the weights of the target $\\hat Q$-Network using a [soft update](#6.1). If you want to know how this is implemented in code we encourage you to take a look at the `utils.update_target_network` function in the `utils` module."
   ]
  },
  {
   "cell_type": "code",
   "execution_count": 31,
   "metadata": {
    "deletable": false,
    "editable": false
   },
   "outputs": [],
   "source": [
    "@tf.function\n",
    "def agent_learn(experiences, gamma):\n",
    "    \"\"\"\n",
    "    Updates the weights of the Q networks.\n",
    "    \n",
    "    Args:\n",
    "      experiences: (tuple) tuple of [\"state\", \"action\", \"reward\", \"next_state\", \"done\"] namedtuples\n",
    "      gamma: (float) The discount factor.\n",
    "    \n",
    "    \"\"\"\n",
    "    \n",
    "    # Calculate the loss\n",
    "    with tf.GradientTape() as tape:\n",
    "        loss = compute_loss(experiences, gamma, q_network, target_q_network)\n",
    "\n",
    "    # Get the gradients of the loss with respect to the weights.\n",
    "    gradients = tape.gradient(loss, q_network.trainable_variables)\n",
    "    \n",
    "    # Update the weights of the q_network.\n",
    "    optimizer.apply_gradients(zip(gradients, q_network.trainable_variables))\n",
    "\n",
    "    # update the weights of target q_network\n",
    "    utils.update_target_network(q_network, target_q_network)"
   ]
  },
  {
   "cell_type": "markdown",
   "metadata": {},
   "source": [
    "<a name=\"9\"></a>\n",
    "## 9 - Train the Agent\n",
    "\n",
    "We are now ready to train our agent to solve the Lunar Lander environment. In the cell below we will implement the algorithm in [Fig 3](#7) line by line (please note that we have included the same algorithm below for easy reference. This will prevent you from scrolling up and down the notebook):\n",
    "\n",
    "* **Line 1**: We initialize the `memory_buffer` with a capacity of $N =$ `MEMORY_SIZE`. Notice that we are using a `deque` as the data structure for our `memory_buffer`.\n",
    "\n",
    "\n",
    "* **Line 2**: We skip this line since we already initialized the `q_network` in [Exercise 1](#ex01).\n",
    "\n",
    "\n",
    "* **Line 3**: We initialize the `target_q_network` by setting its weights to be equal to those of the `q_network`.\n",
    "\n",
    "\n",
    "* **Line 4**: We start the outer loop. Notice that we have set $M =$ `num_episodes = 2000`. This number is reasonable because the agent should be able to solve the Lunar Lander environment in less than `2000` episodes using this notebook's default parameters.\n",
    "\n",
    "\n",
    "* **Line 5**: We use the `.reset()` method to reset the environment to the initial state and get the initial state.\n",
    "\n",
    "\n",
    "* **Line 6**: We start the inner loop. Notice that we have set $T =$ `max_num_timesteps = 1000`. This means that the episode will automatically terminate if the episode hasn't terminated after `1000` time steps.\n",
    "\n",
    "\n",
    "* **Line 7**: The agent observes the current `state` and chooses an `action` using an $\\epsilon$-greedy policy. Our agent starts out using a value of $\\epsilon =$ `epsilon = 1` which yields an $\\epsilon$-greedy policy that is equivalent to the equiprobable random policy. This means that at the beginning of our training, the agent is just going to take random actions regardless of the observed `state`. As training progresses we will decrease the value of $\\epsilon$ slowly towards a minimum value using a given $\\epsilon$-decay rate. We want this minimum value to be close to zero because a value of $\\epsilon = 0$ will yield an $\\epsilon$-greedy policy that is equivalent to the greedy policy. This means that towards the end of training, the agent will lean towards selecting the `action` that it believes (based on its past experiences) will maximize $Q(s,a)$. We will set the minimum $\\epsilon$ value to be `0.01` and not exactly 0 because we always want to keep a little bit of exploration during training. If you want to know how this is implemented in code we encourage you to take a look at the `utils.get_action` function in the `utils` module.\n",
    "\n",
    "\n",
    "* **Line 8**: We use the `.step()` method to take the given `action` in the environment and get the `reward` and the `next_state`. \n",
    "\n",
    "\n",
    "* **Line 9**: We store the `experience(state, action, reward, next_state, done)` tuple in our `memory_buffer`. Notice that we also store the `done` variable so that we can keep track of when an episode terminates. This allowed us to set the $y$ targets in [Exercise 2](#ex02).\n",
    "\n",
    "\n",
    "* **Line 10**: We check if the conditions are met to perform a learning update. We do this by using our custom `utils.check_update_conditions` function. This function checks if $C =$ `NUM_STEPS_FOR_UPDATE = 4` time steps have occured and if our `memory_buffer` has enough experience tuples to fill a mini-batch. For example, if the mini-batch size is `64`, then our `memory_buffer` should have more than `64` experience tuples in order to pass the latter condition. If the conditions are met, then the `utils.check_update_conditions` function will return a value of `True`, otherwise it will return a value of `False`.\n",
    "\n",
    "\n",
    "* **Lines 11 - 14**: If the `update` variable is `True` then we perform a learning update. The learning update consists of sampling a random mini-batch of experience tuples from our `memory_buffer`, setting the $y$ targets, performing gradient descent, and updating the weights of the networks. We will use the `agent_learn` function we defined in [Section 8](#8) to perform the latter 3.\n",
    "\n",
    "\n",
    "* **Line 15**: At the end of each iteration of the inner loop we set `next_state` as our new `state` so that the loop can start again from this new state. In addition, we check if the episode has reached a terminal state (i.e we check if `done = True`). If a terminal state has been reached, then we break out of the inner loop.\n",
    "\n",
    "\n",
    "* **Line 16**: At the end of each iteration of the outer loop we update the value of $\\epsilon$, and check if the environment has been solved. We consider that the environment has been solved if the agent receives an average of `200` points in the last `100` episodes. If the environment has not been solved we continue the outer loop and start a new episode.\n",
    "\n",
    "Finally, we wanted to note that we have included some extra variables to keep track of the total number of points the agent received in each episode. This will help us determine if the agent has solved the environment and it will also allow us to see how our agent performed during training. We also use the `time` module to measure how long the training takes. \n",
    "\n",
    "<br>\n",
    "<br>\n",
    "<figure>\n",
    "  <img src = \"images/deep_q_algorithm.png\" width = 90% style = \"border: thin silver solid; padding: 0px\">\n",
    "      <figcaption style = \"text-align: center; font-style: italic\">Fig 4. Deep Q-Learning with Experience Replay.</figcaption>\n",
    "</figure>\n",
    "<br>\n",
    "\n",
    "**Note:** With this notebook's default parameters, the following cell takes between 10 to 15 minutes to run. "
   ]
  },
  {
   "cell_type": "code",
   "execution_count": 32,
   "metadata": {
    "deletable": false,
    "editable": false
   },
   "outputs": [
    {
     "name": "stdout",
     "output_type": "stream",
     "text": [
      "Episode 100 | Total point average of the last 100 episodes: -160.45\n",
      "Episode 200 | Total point average of the last 100 episodes: -87.889\n",
      "Episode 300 | Total point average of the last 100 episodes: -57.63\n",
      "Episode 400 | Total point average of the last 100 episodes: -21.08\n",
      "Episode 500 | Total point average of the last 100 episodes: 94.083\n",
      "Episode 600 | Total point average of the last 100 episodes: 188.81\n",
      "Episode 663 | Total point average of the last 100 episodes: 202.09\n",
      "\n",
      "Environment solved in 663 episodes!\n",
      "\n",
      "Total Runtime: 895.09 s (14.92 min)\n"
     ]
    }
   ],
   "source": [
    "start = time.time()\n",
    "\n",
    "num_episodes = 2000\n",
    "max_num_timesteps = 1000\n",
    "\n",
    "total_point_history = []\n",
    "\n",
    "num_p_av = 100    # number of total points to use for averaging\n",
    "epsilon = 1.0     # initial ε value for ε-greedy policy\n",
    "\n",
    "# Create a memory buffer D with capacity N\n",
    "memory_buffer = deque(maxlen=MEMORY_SIZE)\n",
    "\n",
    "# Set the target network weights equal to the Q-Network weights\n",
    "target_q_network.set_weights(q_network.get_weights())\n",
    "\n",
    "for i in range(num_episodes):\n",
    "    \n",
    "    # Reset the environment to the initial state and get the initial state\n",
    "    state = env.reset()\n",
    "    total_points = 0\n",
    "    \n",
    "    for t in range(max_num_timesteps):\n",
    "        \n",
    "        # From the current state S choose an action A using an ε-greedy policy\n",
    "        state_qn = np.expand_dims(state, axis=0)  # state needs to be the right shape for the q_network\n",
    "        q_values = q_network(state_qn)\n",
    "        action = utils.get_action(q_values, epsilon)\n",
    "        \n",
    "        # Take action A and receive reward R and the next state S'\n",
    "        next_state, reward, done, _ = env.step(action)\n",
    "        \n",
    "        # Store experience tuple (S,A,R,S') in the memory buffer.\n",
    "        # We store the done variable as well for convenience.\n",
    "        memory_buffer.append(experience(state, action, reward, next_state, done))\n",
    "        \n",
    "        # Only update the network every NUM_STEPS_FOR_UPDATE time steps.\n",
    "        update = utils.check_update_conditions(t, NUM_STEPS_FOR_UPDATE, memory_buffer)\n",
    "        \n",
    "        if update:\n",
    "            # Sample random mini-batch of experience tuples (S,A,R,S') from D\n",
    "            experiences = utils.get_experiences(memory_buffer)\n",
    "            \n",
    "            # Set the y targets, perform a gradient descent step,\n",
    "            # and update the network weights.\n",
    "            agent_learn(experiences, GAMMA)\n",
    "        \n",
    "        state = next_state.copy()\n",
    "        total_points += reward\n",
    "        \n",
    "        if done:\n",
    "            break\n",
    "            \n",
    "    total_point_history.append(total_points)\n",
    "    av_latest_points = np.mean(total_point_history[-num_p_av:])\n",
    "    \n",
    "    # Update the ε value\n",
    "    epsilon = utils.get_new_eps(epsilon)\n",
    "\n",
    "    print(f\"\\rEpisode {i+1} | Total point average of the last {num_p_av} episodes: {av_latest_points:.2f}\", end=\"\")\n",
    "\n",
    "    if (i+1) % num_p_av == 0:\n",
    "        print(f\"\\rEpisode {i+1} | Total point average of the last {num_p_av} episodes: {av_latest_points:.2f}\")\n",
    "\n",
    "    # We will consider that the environment is solved if we get an\n",
    "    # average of 200 points in the last 100 episodes.\n",
    "    if av_latest_points >= 200.0:\n",
    "        print(f\"\\n\\nEnvironment solved in {i+1} episodes!\")\n",
    "        q_network.save('lunar_lander_model.h5')\n",
    "        break\n",
    "        \n",
    "tot_time = time.time() - start\n",
    "\n",
    "print(f\"\\nTotal Runtime: {tot_time:.2f} s ({(tot_time/60):.2f} min)\")"
   ]
  },
  {
   "cell_type": "markdown",
   "metadata": {},
   "source": [
    "We can plot the total point history along with the moving average to see how our agent improved during training. If you want to know about the different plotting options available in the `utils.plot_history` function we encourage you to take a look at the `utils` module."
   ]
  },
  {
   "cell_type": "code",
   "execution_count": 33,
   "metadata": {
    "deletable": false,
    "editable": false,
    "id": "E_EUXxurfe8m",
    "scrolled": false
   },
   "outputs": [
    {
     "data": {
      "image/png": "[encoded data removed]",
      "text/plain": [
       "<Figure size 720x504 with 1 Axes>"
      ]
     },
     "metadata": {},
     "output_type": "display_data"
    }
   ],
   "source": [
    "# Plot the total point history along with the moving average\n",
    "utils.plot_history(total_point_history)"
   ]
  },
  {
   "cell_type": "markdown",
   "metadata": {
    "id": "c_xwgaX5MnYt"
   },
   "source": [
    "<a name=\"10\"></a>\n",
    "## 10 - See the Trained Agent In Action\n",
    "\n",
    "Now that we have trained our agent, we can see it in action. We will use the `utils.create_video` function to create a video of our agent interacting with the environment using the trained $Q$-Network. The `utils.create_video` function uses the `imageio` library to create the video. This library produces some warnings that can be distracting, so, to suppress these warnings we run the code below."
   ]
  },
  {
   "cell_type": "code",
   "execution_count": 34,
   "metadata": {
    "deletable": false,
    "editable": false
   },
   "outputs": [],
   "source": [
    "# Suppress warnings from imageio\n",
    "import logging\n",
    "logging.getLogger().setLevel(logging.ERROR)"
   ]
  },
  {
   "cell_type": "markdown",
   "metadata": {},
   "source": [
    "In the cell below we create a video of our agent interacting with the Lunar Lander environment using the trained `q_network`. The video is saved to the `videos` folder with the given `filename`. We use the `utils.embed_mp4` function to embed the video in the Jupyter Notebook so that we can see it here directly without having to download it.\n",
    "\n",
    "We should note that since the lunar lander starts with a random initial force applied to its center of mass, every time you run the cell below you will see a different video. If the agent was trained properly, it should be able to land the lunar lander in the landing pad every time, regardless of the initial force applied to its center of mass."
   ]
  },
  {
   "cell_type": "code",
   "execution_count": 35,
   "metadata": {
    "deletable": false,
    "editable": false,
    "id": "3Ttb_zLeJKiG"
   },
   "outputs": [
    {
     "data": {
      "text/html": [
       "\n",
       "    <video width=\"840\" height=\"480\" controls>\n",
       "    <source src=\"data:video/mp4;base64,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\" type=\"video/mp4\">\n",
       "    Your browser does not support the video tag.\n",
       "    </video>"
      ],
      "text/plain": [
       "<IPython.core.display.HTML object>"
      ]
     },
     "execution_count": 35,
     "metadata": {},
     "output_type": "execute_result"
    }
   ],
   "source": [
    "filename = \"./videos/lunar_lander.mp4\"\n",
    "\n",
    "utils.create_video(filename, env, q_network)\n",
    "utils.embed_mp4(filename)"
   ]
  },
  {
   "cell_type": "markdown",
   "metadata": {},
   "source": [
    "<a name=\"11\"></a>\n",
    "## 11 - Congratulations!\n",
    "\n",
    "You have successfully used Deep Q-Learning with Experience Replay to train an agent to land a lunar lander safely on a landing pad on the surface of the moon. Congratulations!"
   ]
  },
  {
   "cell_type": "markdown",
   "metadata": {},
   "source": [
    "<a name=\"12\"></a>\n",
    "## 12 - References\n",
    "\n",
    "If you would like to learn more about Deep Q-Learning, we recommend you check out the following papers.\n",
    "\n",
    "\n",
    "* Mnih, V., Kavukcuoglu, K., Silver, D. et al. Human-level control through deep reinforcement learning. Nature 518, 529–533 (2015).\n",
    "\n",
    "\n",
    "* Lillicrap, T. P., Hunt, J. J., Pritzel, A., et al. Continuous Control with Deep Reinforcement Learning. ICLR (2016).\n",
    "\n",
    "\n",
    "* Mnih, V., Kavukcuoglu, K., Silver, D. et al. Playing Atari with Deep Reinforcement Learning. arXiv e-prints.  arXiv:1312.5602 (2013)."
   ]
  },
  {
   "cell_type": "markdown",
   "metadata": {},
   "source": [
    "<details>\n",
    "  <summary><font size=\"2\" color=\"darkgreen\"><b>Please click here if you want to experiment with any of the non-graded code.</b></font></summary>\n",
    "    <p><i><b>Important Note: Please only do this when you've already passed the assignment to avoid problems with the autograder.</b></i>\n",
    "    <ol>\n",
    "        <li> On the notebook’s menu, click “View” > “Cell Toolbar” > “Edit Metadata”</li>\n",
    "        <li> Hit the “Edit Metadata” button next to the code cell which you want to lock/unlock</li>\n",
    "        <li> Set the attribute value for “editable” to:\n",
    "            <ul>\n",
    "                <li> “true” if you want to unlock it </li>\n",
    "                <li> “false” if you want to lock it </li>\n",
    "            </ul>\n",
    "        </li>\n",
    "        <li> On the notebook’s menu, click “View” > “Cell Toolbar” > “None” </li>\n",
    "    </ol>\n",
    "    <p> Here's a short demo of how to do the steps above: \n",
    "        <br>\n",
    "        <img src=\"https://drive.google.com/uc?export=view&id=14Xy_Mb17CZVgzVAgq7NCjMVBvSae3xO1\" align=\"center\" alt=\"unlock_cells.gif\">\n",
    "</details>"
   ]
  }
 ],
 "metadata": {
  "accelerator": "GPU",
  "colab": {
   "collapsed_sections": [],
   "name": "TensorFlow - Lunar Lander.ipynb",
   "provenance": []
  },
  "kernelspec": {
   "display_name": "Python 3",
   "language": "python",
   "name": "python3"
  },
  "language_info": {
   "codemirror_mode": {
    "name": "ipython",
    "version": 3
   },
   "file_extension": ".py",
   "mimetype": "text/x-python",
   "name": "python",
   "nbconvert_exporter": "python",
   "pygments_lexer": "ipython3",
   "version": "3.7.6"
  }
 },
 "nbformat": 4,
 "nbformat_minor": 1
}
